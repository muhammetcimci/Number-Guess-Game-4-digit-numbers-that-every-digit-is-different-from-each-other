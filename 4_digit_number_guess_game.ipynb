{
 "cells": [
  {
   "cell_type": "code",
   "execution_count": null,
   "metadata": {},
   "outputs": [
    {
     "name": "stdout",
     "output_type": "stream",
     "text": [
      "4 basamakli bir sayi tahmin edin:4596\n",
      "['4', '5', '9', '6']\n",
      "+ 0 , - 1\n",
      "4 basamakli bir sayi tahmin edin:9874\n",
      "['9', '8', '7', '4']\n",
      "+ 0 , - 2\n",
      "4 basamakli bir sayi tahmin edin:3698\n",
      "['3', '6', '9', '8']\n",
      "+ 1 , - 1\n"
     ]
    }
   ],
   "source": [
    "import random\n",
    "def sayi_bul(sayi):\n",
    "\n",
    "    sayi_bul_list = []\n",
    "    for i in sayi:\n",
    "        sayi_bul_list += [i]\n",
    "    list_tahmin = []\n",
    "    sayac = 0\n",
    "    while list_tahmin != sayi_bul_list:\n",
    "        list_tahmin = []\n",
    "        tahmin = input(\"4 basamakli bir sayi tahmin edin:\")\n",
    "        sayac +=1\n",
    "        if len(tahmin) != 4:\n",
    "            print(\"4 basamakli bir sayi girmelisiniz!!!\")\n",
    "            continue\n",
    "        for i in tahmin:\n",
    "            if i in list_tahmin:\n",
    "                list_tahmin = \"\"\n",
    "                print(\"Ayni rakami birden cok kez kullanamazsiniz!!!\")\n",
    "                break\n",
    "\n",
    "            list_tahmin += [i]\n",
    "            if list_tahmin == sayi_bul_list:\n",
    "                print(\"Tebrikler!!!.. Gizli sayi {}'yi {}. seferde dogru tahmin ettiniz!.. \".format(sayi, sayac))\n",
    "\n",
    "        print(list_tahmin)\n",
    "        dogru_yerde = 0\n",
    "        yanlis_yerde = 0\n",
    "        for k in list_tahmin:\n",
    "            if k in sayi_bul_list:\n",
    "                if list_tahmin.index(k) == sayi_bul_list.index(k):\n",
    "                    dogru_yerde += 1\n",
    "                else:\n",
    "                    yanlis_yerde += 1\n",
    "\n",
    "            else:\n",
    "                yanlis_yerde += 0\n",
    "                dogru_yerde += 0\n",
    "        print(\"+\", dogru_yerde, \", -\", yanlis_yerde)\n",
    "\n",
    "\n",
    "def rastgele():\n",
    "    bulun_sayi = \"\"\n",
    "    while len(bulun_sayi) != 4:\n",
    "        if len(bulun_sayi) == 4:\n",
    "            break\n",
    "        x= random.randint(0, 9)\n",
    "        y = str(x)\n",
    "        if len(bulun_sayi) == 0 and x == 0:\n",
    "            continue\n",
    "        elif y not in bulun_sayi:\n",
    "            bulun_sayi += str(x)\n",
    "    return bulun_sayi\n",
    "\n",
    "sayi = rastgele()\n",
    "sayi_bul(sayi)"
   ]
  },
  {
   "cell_type": "code",
   "execution_count": null,
   "metadata": {},
   "outputs": [],
   "source": []
  }
 ],
 "metadata": {
  "kernelspec": {
   "display_name": "Python 3",
   "language": "python",
   "name": "python3"
  },
  "language_info": {
   "codemirror_mode": {
    "name": "ipython",
    "version": 3
   },
   "file_extension": ".py",
   "mimetype": "text/x-python",
   "name": "python",
   "nbconvert_exporter": "python",
   "pygments_lexer": "ipython3",
   "version": "3.6.4"
  }
 },
 "nbformat": 4,
 "nbformat_minor": 2
}
